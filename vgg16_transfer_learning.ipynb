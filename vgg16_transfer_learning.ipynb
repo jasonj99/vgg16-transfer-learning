{
 "cells": [
  {
   "cell_type": "markdown",
   "metadata": {},
   "source": [
    "# Transfer Learning to detect cats / dogs using Vgg16"
   ]
  },
  {
   "cell_type": "code",
   "execution_count": null,
   "metadata": {
    "collapsed": true
   },
   "outputs": [],
   "source": [
    "%matplotlib inline\n",
    "import matplotlib.pyplot as plt\n",
    "import tensorflow as tf\n",
    "import numpy as np\n",
    "import skimage\n",
    "import skimage.io\n",
    "import skimage.transform"
   ]
  },
  {
   "cell_type": "code",
   "execution_count": null,
   "metadata": {
    "collapsed": true
   },
   "outputs": [],
   "source": [
    "vgg_mean = [103.939, 116.779, 123.68]\n",
    "classes = [l.strip() for l in open('synset.txt').readlines()]"
   ]
  },
  {
   "cell_type": "markdown",
   "metadata": {},
   "source": [
    "## Vgg16 Model Class"
   ]
  },
  {
   "cell_type": "code",
   "execution_count": null,
   "metadata": {
    "collapsed": true
   },
   "outputs": [],
   "source": [
    "class Vgg16Model:\n",
    "    def __init__(self, weights_path='./vgg16.npy'):\n",
    "        self.weights = np.load('vgg16.npy', encoding='latin1').item()\n",
    "        self.activation_fn = tf.nn.relu\n",
    "        self.conv_padding = 'SAME'\n",
    "        self.pool_padding = 'SAME'\n",
    "        self.use_bias = True\n",
    "\n",
    "    def build(self, input_tensor, trainable=False):\n",
    "        self.conv1_1 = self.conv2d(input_tensor, 'conv1_1', 64, trainable)\n",
    "        self.conv1_2 = self.conv2d(self.conv1_1, 'conv1_2', 64, trainable)\n",
    "\n",
    "        # Max-pooling is performed over a 2 × 2 pixel window, with stride 2.\n",
    "        self.max_pool1 = tf.layers.max_pooling2d(self.conv1_2, (2, 2), (2, 2), padding=self.pool_padding)\n",
    "\n",
    "        self.conv2_1 = self.conv2d(self.max_pool1, 'conv2_1', 128, trainable)\n",
    "        self.conv2_2 = self.conv2d(self.conv2_1, 'conv2_2', 128, trainable)\n",
    "\n",
    "        self.max_pool2 = tf.layers.max_pooling2d(self.conv2_2, (2, 2), (2, 2), padding=self.pool_padding)\n",
    "\n",
    "        self.conv3_1 = self.conv2d(self.max_pool2, 'conv3_1', 256, trainable)\n",
    "        self.conv3_2 = self.conv2d(self.conv3_1, 'conv3_2', 256, trainable)\n",
    "        self.conv3_3 = self.conv2d(self.conv3_2, 'conv3_3', 256, trainable)\n",
    "\n",
    "        self.max_pool3 = tf.layers.max_pooling2d(self.conv3_3, (2, 2), (2, 2), padding=self.pool_padding)\n",
    "\n",
    "        self.conv4_1 = self.conv2d(self.max_pool3, 'conv4_1', 512, trainable)\n",
    "        self.conv4_2 = self.conv2d(self.conv4_1, 'conv4_2', 512, trainable)\n",
    "        self.conv4_3 = self.conv2d(self.conv4_2, 'conv4_3', 512, trainable)\n",
    "\n",
    "        self.max_pool4 = tf.layers.max_pooling2d(self.conv4_3, (2, 2), (2, 2), padding=self.pool_padding)\n",
    "\n",
    "        self.conv5_1 = self.conv2d(self.max_pool4, 'conv5_1', 512, trainable)\n",
    "        self.conv5_2 = self.conv2d(self.conv5_1, 'conv5_2', 512, trainable)\n",
    "        self.conv5_3 = self.conv2d(self.conv5_2, 'conv5_3', 512, trainable)\n",
    "\n",
    "        self.max_pool5 = tf.layers.max_pooling2d(self.conv5_3, (2, 2), (2, 2), padding=self.pool_padding)\n",
    "\n",
    "        reshaped = tf.reshape(self.max_pool5, shape=(-1, 7 * 7 * 512))\n",
    "\n",
    "        self.fc6 = self.fc(reshaped, 'fc6', 4096, trainable)\n",
    "        self.fc7 = self.fc(self.fc6, 'fc7', 4096, trainable)\n",
    "\n",
    "        self.fc8 = self.fc(self.fc7, 'fc8', 1000, trainable)\n",
    "\n",
    "        self.predictions = tf.nn.softmax(self.fc8, name='predictions')\n",
    "\n",
    "    def conv2d(self, layer, name, n_filters, trainable, k_size=3):\n",
    "        return tf.layers.conv2d(layer, n_filters, kernel_size=(k_size, k_size),\n",
    "                                activation=self.activation_fn, padding=self.conv_padding, name=name, trainable=trainable,\n",
    "                                kernel_initializer=tf.constant_initializer(self.weights[name][0], dtype=tf.float32),\n",
    "                                bias_initializer=tf.constant_initializer(self.weights[name][1], dtype=tf.float32),\n",
    "                                use_bias=self.use_bias)\n",
    "\n",
    "    def fc(self, layer, name, size, trainable):\n",
    "        return tf.layers.dense(layer, size, activation=self.activation_fn,\n",
    "                               name=name, trainable=trainable,\n",
    "                               kernel_initializer=tf.constant_initializer(self.weights[name][0], dtype=tf.float32),\n",
    "                               bias_initializer=tf.constant_initializer(self.weights[name][1], dtype=tf.float32),\n",
    "                               use_bias=self.use_bias)"
   ]
  },
  {
   "cell_type": "markdown",
   "metadata": {},
   "source": [
    "## Images conversion for Vgg16\n",
    "\n",
    "Images have to be of dimension (224, 224, 3). The last dimension is in BGR format"
   ]
  },
  {
   "cell_type": "code",
   "execution_count": null,
   "metadata": {
    "collapsed": false
   },
   "outputs": [],
   "source": [
    "# https://github.com/machrisaa/tensorflow-vgg/blob/master/utils.py\n",
    "def load_image(image_path, mean=vgg_mean):\n",
    "    image = skimage.io.imread(image_path)\n",
    "\n",
    "    short_edge = min(image.shape[:2])\n",
    "    yy = int((image.shape[0] - short_edge) / 2)\n",
    "    xx = int((image.shape[1] - short_edge) / 2)\n",
    "    crop_image = image[yy: yy + short_edge, xx: xx + short_edge]\n",
    "    \n",
    "    resized_image = skimage.transform.resize(crop_image, (224, 224), mode='constant') \n",
    "            \n",
    "    bgr = resized_image[:,:,::-1] - mean\n",
    "    \n",
    "    return bgr"
   ]
  },
  {
   "cell_type": "markdown",
   "metadata": {},
   "source": [
    "## Extract Vgg16 features"
   ]
  },
  {
   "cell_type": "code",
   "execution_count": null,
   "metadata": {
    "collapsed": false
   },
   "outputs": [],
   "source": [
    "import os\n",
    "import math\n",
    "\n",
    "dataset_dir = './datasets/dogs-vs-cats-redux-kernels-edition/train/'\n",
    "filenames = os.listdir(dataset_dir)\n",
    "num_files = len(filenames)\n",
    "\n",
    "batch_size = 128\n",
    "\n",
    "num_batches = int(math.ceil(num_files / batch_size))"
   ]
  },
  {
   "cell_type": "code",
   "execution_count": null,
   "metadata": {
    "collapsed": false
   },
   "outputs": [],
   "source": [
    "import time\n",
    "\n",
    "tf.reset_default_graph()\n",
    "\n",
    "# create mapping of filename -> vgg features\n",
    "codes = {}\n",
    "\n",
    "with tf.Session() as sess:    \n",
    "    _input = tf.placeholder(tf.float32, shape=(None, 224, 224, 3), name=\"images\")\n",
    "    \n",
    "    vgg = Vgg16Model()\n",
    "    vgg.build(_input)\n",
    "    \n",
    "    sess.run(tf.global_variables_initializer())\n",
    "    \n",
    "    for i in range(num_batches):\n",
    "        batch_filenames = filenames[i*batch_size : ((i+1)*batch_size)]\n",
    "        \n",
    "        print(\"batch {} of {}\".format(i+1, num_batches))\n",
    "        \n",
    "        start = time.time()\n",
    "        images = np.array([load_image(dataset_dir + f) for f in batch_filenames])\n",
    "        end = time.time()\n",
    "        print(\"\\timage loading took {:.4f} sec\".format(end-start))\n",
    "        \n",
    "        start = end\n",
    "        batch_codes = sess.run(vgg.fc7, feed_dict={ _input: images })\n",
    "        end = time.time()\n",
    "        print(\"\\tprediction took {:.4f} sec\".format(end-start))\n",
    "\n",
    "        for i, filename in enumerate(batch_filenames):\n",
    "            codes[filename] = batch_codes[i]\n",
    "            \n",
    "    np.save('codes.npy', codes)\n",
    "        \n",
    "    "
   ]
  }
 ],
 "metadata": {
  "kernelspec": {
   "display_name": "Python 3",
   "language": "python",
   "name": "python3"
  },
  "language_info": {
   "codemirror_mode": {
    "name": "ipython",
    "version": 3
   },
   "file_extension": ".py",
   "mimetype": "text/x-python",
   "name": "python",
   "nbconvert_exporter": "python",
   "pygments_lexer": "ipython3",
   "version": "3.5.3"
  }
 },
 "nbformat": 4,
 "nbformat_minor": 2
}
